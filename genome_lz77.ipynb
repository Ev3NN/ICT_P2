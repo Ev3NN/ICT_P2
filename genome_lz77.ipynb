{
 "cells": [
  {
   "cell_type": "code",
   "execution_count": 1,
   "metadata": {},
   "outputs": [],
   "source": [
    "import lz77 as imp\n",
    "import string\n",
    "import sys"
   ]
  },
  {
   "cell_type": "code",
   "execution_count": 2,
   "metadata": {},
   "outputs": [],
   "source": [
    "def lz77_genome(src, dest):\n",
    "    file = open(src, 'r')\n",
    "    look_ahead_buffer = file.read()\n",
    "    look_ahead_buffer = look_ahead_buffer.replace('\\n', '')\n",
    "    \n",
    "    search_buffer = ' ' * 7\n",
    "\n",
    "    codewords = imp.lz77(search_buffer, look_ahead_buffer)\n",
    "\n",
    "    f = open(dest,'w')\n",
    "    #for d, l, c in codewords:\n",
    "        #f.write('\\n'.join([\"%s %s %s\" % (d, l, c)]) + \"\\n\")\n",
    "        \n",
    "    for el in codewords:\n",
    "        f.write(str(el) + '\\n')\n",
    "\n",
    "\n",
    "    f.close()\n",
    "    print('Done')\n"
   ]
  },
  {
   "cell_type": "code",
   "execution_count": 13,
   "metadata": {
    "scrolled": true
   },
   "outputs": [
    {
     "data": {
      "text/plain": [
       "72"
      ]
     },
     "execution_count": 13,
     "metadata": {},
     "output_type": "execute_result"
    }
   ],
   "source": [
    "sys.getsizeof(string)"
   ]
  },
  {
   "cell_type": "code",
   "execution_count": null,
   "metadata": {},
   "outputs": [],
   "source": []
  }
 ],
 "metadata": {
  "kernelspec": {
   "display_name": "Python 3",
   "language": "python",
   "name": "python3"
  },
  "language_info": {
   "codemirror_mode": {
    "name": "ipython",
    "version": 3
   },
   "file_extension": ".py",
   "mimetype": "text/x-python",
   "name": "python",
   "nbconvert_exporter": "python",
   "pygments_lexer": "ipython3",
   "version": "3.8.5"
  }
 },
 "nbformat": 4,
 "nbformat_minor": 4
}
