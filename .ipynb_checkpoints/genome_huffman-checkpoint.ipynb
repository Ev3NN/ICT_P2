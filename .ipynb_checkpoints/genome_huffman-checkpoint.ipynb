{
 "cells": [
  {
   "cell_type": "code",
   "execution_count": 5,
   "metadata": {},
   "outputs": [],
   "source": [
    "import huffman as huf"
   ]
  },
  {
   "cell_type": "code",
   "execution_count": 8,
   "metadata": {},
   "outputs": [],
   "source": [
    "def compute_freq(filename, n_char):\n",
    "    file = open(filename, 'r')\n",
    "    \n",
    "    text = file.read()\n",
    "    text = text.replace('\\n', '')\n",
    "#     n = len(text) - n_char\n",
    "#     text = text[:-n]\n",
    "    \n",
    "    count_a = text.count('A')\n",
    "    count_c = text.count('C')\n",
    "    count_g = text.count('G')\n",
    "    count_t = text.count('T')\n",
    "    \n",
    "    return {'A': count_a, 'C': count_c, 'G': count_g, 'T': count_t}"
   ]
  },
  {
   "cell_type": "code",
   "execution_count": 9,
   "metadata": {},
   "outputs": [
    {
     "name": "stdout",
     "output_type": "stream",
     "text": [
      "[('T', 34), ('A', 31), ('G', 22), ('C', 13)]\n"
     ]
    }
   ],
   "source": [
    "freq = compute_freq('genome.txt', 100)\n",
    "freq = sorted(freq.items(), key=lambda x: x[1], reverse=True)\n",
    "print(freq)"
   ]
  },
  {
   "cell_type": "code",
   "execution_count": 15,
   "metadata": {},
   "outputs": [
    {
     "name": "stdout",
     "output_type": "stream",
     "text": [
      " Char | Huffman code \n",
      "----------------------\n",
      " 'T'  |          11\n",
      " 'A'  |          10\n",
      " 'G'  |          01\n",
      " 'C'  |          00\n",
      "6.5\n"
     ]
    }
   ],
   "source": [
    "nodes = huf.build_tree(freq)\n",
    "huffmanCode = huf.huffman_code_tree(nodes[0][0])\n",
    "\n",
    "emp_avg = 0\n",
    "print(' Char | Huffman code ')\n",
    "print('----------------------')\n",
    "for char, p in freq:\n",
    "    print(' %-4r |%12s' % (char, huffmanCode[char]))\n",
    "    emp_avg = p * len(huffmanCode[char])\n",
    "    \n",
    "emp_avg /= 4\n",
    "print(emp_avg)"
   ]
  },
  {
   "cell_type": "code",
   "execution_count": null,
   "metadata": {},
   "outputs": [],
   "source": [
    "# def huffman_trials(filename):\n",
    "    \n",
    "#     for i in range()\n",
    "#     freq = compute_freq('genome.txt', 100)\n",
    "#     freq = sorted(freq.items(), key=lambda x: x[1], reverse=True)\n",
    "#     print(freq)"
   ]
  }
 ],
 "metadata": {
  "kernelspec": {
   "display_name": "Python 3",
   "language": "python",
   "name": "python3"
  },
  "language_info": {
   "codemirror_mode": {
    "name": "ipython",
    "version": 3
   },
   "file_extension": ".py",
   "mimetype": "text/x-python",
   "name": "python",
   "nbconvert_exporter": "python",
   "pygments_lexer": "ipython3",
   "version": "3.8.5"
  }
 },
 "nbformat": 4,
 "nbformat_minor": 4
}
