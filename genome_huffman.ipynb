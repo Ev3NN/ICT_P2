{
 "cells": [
  {
   "cell_type": "code",
   "execution_count": 2,
   "metadata": {},
   "outputs": [],
   "source": [
    "import huffman as huf"
   ]
  },
  {
   "cell_type": "code",
   "execution_count": 17,
   "metadata": {},
   "outputs": [],
   "source": [
    "def compute_freq(filename):\n",
    "    file = open(filename, 'r')\n",
    "    \n",
    "    text = file.read()\n",
    "    \n",
    "    count_a = text.count('A')\n",
    "    count_c = text.count('C')\n",
    "    count_g = text.count('G')\n",
    "    count_t = text.count('T')\n",
    "    \n",
    "    return {'A': count_a, 'C': count_c, 'G': count_g, 'T': count_t}"
   ]
  },
  {
   "cell_type": "code",
   "execution_count": 18,
   "metadata": {},
   "outputs": [
    {
     "name": "stdout",
     "output_type": "stream",
     "text": [
      "[('T', 290737), ('A', 289755), ('C', 190313), ('G', 187752)]\n"
     ]
    }
   ],
   "source": [
    "freq = compute_freq('genome.txt')\n",
    "freq = sorted(freq.items(), key=lambda x: x[1], reverse=True)\n",
    "print(freq)"
   ]
  },
  {
   "cell_type": "code",
   "execution_count": 19,
   "metadata": {},
   "outputs": [
    {
     "name": "stdout",
     "output_type": "stream",
     "text": [
      " Char | Huffman code \n",
      "----------------------\n",
      " 'T'  |          11\n",
      " 'A'  |          10\n",
      " 'C'  |          01\n",
      " 'G'  |          00\n"
     ]
    }
   ],
   "source": [
    "nodes = huf.build_tree(freq)\n",
    "huffmanCode = huf.huffman_code_tree(nodes[0][0])\n",
    "\n",
    "print(' Char | Huffman code ')\n",
    "print('----------------------')\n",
    "for (char, _) in freq:\n",
    "    print(' %-4r |%12s' % (char, huffmanCode[char]))"
   ]
  }
 ],
 "metadata": {
  "kernelspec": {
   "display_name": "Python 3",
   "language": "python",
   "name": "python3"
  },
  "language_info": {
   "codemirror_mode": {
    "name": "ipython",
    "version": 3
   },
   "file_extension": ".py",
   "mimetype": "text/x-python",
   "name": "python",
   "nbconvert_exporter": "python",
   "pygments_lexer": "ipython3",
   "version": "3.8.5"
  }
 },
 "nbformat": 4,
 "nbformat_minor": 4
}
