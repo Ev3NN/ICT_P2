{
 "cells": [
  {
   "cell_type": "code",
   "execution_count": 1,
   "metadata": {},
   "outputs": [],
   "source": [
    "import huffman as huf\n",
    "import numpy as np\n",
    "import pandas as pd"
   ]
  },
  {
   "cell_type": "code",
   "execution_count": 2,
   "metadata": {},
   "outputs": [],
   "source": [
    "def compute_freq(filename, n_char):\n",
    "    file = open(filename, 'r')\n",
    "    \n",
    "    text = file.read()\n",
    "    text = text.replace('\\n', '')\n",
    "    n = len(text) - n_char\n",
    "    text = text[:-n]\n",
    "    \n",
    "    count_a = text.count('A')\n",
    "    count_c = text.count('C')\n",
    "    count_g = text.count('G')\n",
    "    count_t = text.count('T')\n",
    "    \n",
    "    return {'A': count_a, 'C': count_c, 'G': count_g, 'T': count_t}"
   ]
  },
  {
   "cell_type": "code",
   "execution_count": 3,
   "metadata": {},
   "outputs": [
    {
     "name": "stdout",
     "output_type": "stream",
     "text": [
      "[('T', 34), ('A', 31), ('G', 22), ('C', 13)]\n"
     ]
    }
   ],
   "source": [
    "freq = compute_freq('genome.txt', 100)\n",
    "freq = sorted(freq.items(), key=lambda x: x[1], reverse=True)\n",
    "print(freq)"
   ]
  },
  {
   "cell_type": "code",
   "execution_count": 5,
   "metadata": {},
   "outputs": [
    {
     "name": "stdout",
     "output_type": "stream",
     "text": [
      " Char | Huffman code \n",
      "----------------------\n",
      " 'T'  |          11\n",
      " 'A'  |          10\n",
      " 'G'  |          01\n",
      " 'C'  |          00\n",
      "50.0\n",
      "{'T': '11', 'A': '10', 'G': '01', 'C': '00'}\n"
     ]
    }
   ],
   "source": [
    "nodes = huf.build_tree(freq)\n",
    "huffmanCode = huf.huffman_code_tree(nodes[0][0])\n",
    "\n",
    "huff_dic = {}\n",
    "emp_avg = 0\n",
    "print(' Char | Huffman code ')\n",
    "print('----------------------')\n",
    "for char, p in freq:\n",
    "    print(' %-4r |%12s' % (char, huffmanCode[char]))\n",
    "    emp_avg += p * len(huffmanCode[char])\n",
    "    huff_dic[char] = huffmanCode[char]\n",
    "\n",
    "    \n",
    "emp_avg /= 4\n",
    "print(emp_avg)\n",
    "print(huff_dic)"
   ]
  },
  {
   "cell_type": "code",
   "execution_count": 5,
   "metadata": {},
   "outputs": [],
   "source": [
    "def huffman_trials(src, dest, trials, step):\n",
    "    i = 0\n",
    "    while i < trials:\n",
    "        freq = compute_freq(src, i)\n",
    "        freq = sorted(freq.items(), key=lambda x: x[1], reverse=True)\n",
    "        nodes = huf.build_tree(freq)\n",
    "        huffmanCode = huf.huffman_code_tree(nodes[0][0])\n",
    "\n",
    "        emp_avg = 0\n",
    "#         print(' Char | Huffman code ')\n",
    "#         print('----------------------')\n",
    "        for char, p in freq:\n",
    "            #print(' %-4r |%12s' % (char, huffmanCode[char]))\n",
    "            emp_avg += p * len(huffmanCode[char])\n",
    "\n",
    "        emp_avg /= 4\n",
    "        \n",
    "        f = open(dest, 'a')\n",
    "        f.write(str(i) + ' ' + str(emp_avg) + '\\n')\n",
    "        f.close()\n",
    "        i += 5\n",
    "    print('DONE')"
   ]
  },
  {
   "cell_type": "code",
   "execution_count": null,
   "metadata": {},
   "outputs": [],
   "source": [
    "huffman_trials('genome.txt', 'emp_avg_huffman.txt', 958557, 10)"
   ]
  },
  {
   "cell_type": "code",
   "execution_count": 25,
   "metadata": {},
   "outputs": [
    {
     "data": {
      "text/plain": [
       "{'A': 0.30228249337285107,\n",
       " 'C': 0.19854114048512503,\n",
       " 'G': 0.19586941621625006,\n",
       " 'T': 0.30330694992577384}"
      ]
     },
     "execution_count": 25,
     "metadata": {},
     "output_type": "execute_result"
    }
   ],
   "source": [
    "file = open('genome.txt', 'r')\n",
    "\n",
    "text = file.read()\n",
    "text = text.replace('\\n', '')\n",
    "\n",
    "count_a = text.count('A')\n",
    "count_c = text.count('C')\n",
    "count_g = text.count('G')\n",
    "count_t = text.count('T')\n",
    "\n",
    "dic = {'A': count_a, 'C': count_c, 'G': count_g, 'T': count_t}\n",
    "n_letters = sum(dic.values())\n",
    "prob = {'A': count_a / n_letters, 'C': count_c / n_letters, 'G': count_g / n_letters, 'T': count_t / n_letters}\n",
    "prob"
   ]
  },
  {
   "cell_type": "code",
   "execution_count": 27,
   "metadata": {},
   "outputs": [
    {
     "data": {
      "text/plain": [
       "1.9675726252033867"
      ]
     },
     "execution_count": 27,
     "metadata": {},
     "output_type": "execute_result"
    }
   ],
   "source": [
    "series = pd.Series(prob)\n",
    "\n",
    "entropy = series * np.log2(series)\n",
    "entropy = -entropy.to_numpy().sum()\n",
    "entropy"
   ]
  }
 ],
 "metadata": {
  "kernelspec": {
   "display_name": "Python 3",
   "language": "python",
   "name": "python3"
  },
  "language_info": {
   "codemirror_mode": {
    "name": "ipython",
    "version": 3
   },
   "file_extension": ".py",
   "mimetype": "text/x-python",
   "name": "python",
   "nbconvert_exporter": "python",
   "pygments_lexer": "ipython3",
   "version": "3.8.5"
  }
 },
 "nbformat": 4,
 "nbformat_minor": 4
}
