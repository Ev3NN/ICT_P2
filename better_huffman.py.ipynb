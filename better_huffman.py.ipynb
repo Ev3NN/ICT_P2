{
 "cells": [
  {
   "cell_type": "code",
   "execution_count": 20,
   "metadata": {},
   "outputs": [],
   "source": [
    "import collections"
   ]
  },
  {
   "cell_type": "code",
   "execution_count": 36,
   "metadata": {},
   "outputs": [
    {
     "data": {
      "text/plain": [
       "{'TGT': 5494,\n",
       " 'GTA': 3893,\n",
       " 'AAC': 5723,\n",
       " 'CTT': 5975,\n",
       " 'GGT': 3485,\n",
       " 'ATT': 9899,\n",
       " 'GGA': 4241,\n",
       " 'ATG': 5436,\n",
       " 'TAA': 6898,\n",
       " 'ACA': 5433,\n",
       " 'CCT': 3406,\n",
       " 'TGA': 5979,\n",
       " 'CAC': 3799,\n",
       " 'AGA': 5264,\n",
       " 'TAG': 3549,\n",
       " 'CAT': 5545,\n",
       " 'TTA': 7022,\n",
       " 'AAT': 9995,\n",
       " 'GAT': 5183,\n",
       " 'TTT': 13943,\n",
       " 'TTG': 6992,\n",
       " 'ATC': 5384,\n",
       " 'AGT': 4381,\n",
       " 'CTA': 3684,\n",
       " 'ATA': 6383,\n",
       " 'TGG': 4542,\n",
       " 'CGT': 3102,\n",
       " 'GAG': 3630,\n",
       " 'GTG': 3607,\n",
       " 'ACG': 3059,\n",
       " 'CCG': 2609,\n",
       " 'ACT': 4565,\n",
       " 'GAA': 7692,\n",
       " 'TCA': 6193,\n",
       " 'CAG': 4386,\n",
       " 'TCG': 3744,\n",
       " 'TAC': 3862,\n",
       " 'GCG': 2316,\n",
       " 'ACC': 3357,\n",
       " 'GTC': 3089,\n",
       " 'AGG': 3325,\n",
       " 'TCT': 5662,\n",
       " 'AAG': 5686,\n",
       " 'AAA': 14476,\n",
       " 'CGA': 3851,\n",
       " 'GTT': 5669,\n",
       " 'CGG': 2517,\n",
       " 'CTG': 4420,\n",
       " 'TAT': 6376,\n",
       " 'AGC': 4155,\n",
       " 'TGC': 4223,\n",
       " 'GGG': 2500,\n",
       " 'GAC': 2976,\n",
       " 'TTC': 7736,\n",
       " 'GGC': 3050,\n",
       " 'CAA': 6827,\n",
       " 'GCA': 4230,\n",
       " 'CTC': 3861,\n",
       " 'TCC': 4439,\n",
       " 'GCT': 4410,\n",
       " 'GCC': 2821,\n",
       " 'CCA': 4565,\n",
       " 'CCC': 2472,\n",
       " 'CGC': 2533}"
      ]
     },
     "execution_count": 36,
     "metadata": {},
     "output_type": "execute_result"
    }
   ],
   "source": [
    "file = open('genome.txt', 'r')\n",
    "\n",
    "text = file.read()\n",
    "text = text.replace('\\n', '')\n",
    "text = \" \".join(text[i:i+3] for i in range(0, len(text), 3))\n",
    "lst = text.split()\n",
    "\n",
    "comb = dict(collections.Counter(lst).items())\n",
    "comb"
   ]
  },
  {
   "cell_type": "code",
   "execution_count": 15,
   "metadata": {},
   "outputs": [],
   "source": [
    "acido = {\n",
    "         'Asparagine': 15718,\n",
    "         'Lysine': 20162,\n",
    "         'Threonine': 16414,\n",
    "         'Serine': 28574,\n",
    "         'Arginine': 8589,\n",
    "         'Isoleucine': 21666,\n",
    "         'Methionine': 5436,\n",
    "         'Histidine': 9344,\n",
    "         'Glutamine': 11213,\n",
    "         'Proline': 13052,\n",
    "         'Arginine': 12003,\n",
    "         'Leucine': 31954,\n",
    "         'Aspartic Acid': 8159,\n",
    "         'Glutamic Acid': 11322,\n",
    "         'Alanine': 13777,\n",
    "         'Glycine': 13276,\n",
    "         'Valine': 16258,\n",
    "         'Tyrosine': 10238,\n",
    "         'Cysteine': 9717,\n",
    "         'Tryptophan': 4542,\n",
    "         'Phenylalanine': 21679,\n",
    "         'Stop': 16426\n",
    "}"
   ]
  },
  {
   "cell_type": "code",
   "execution_count": 17,
   "metadata": {},
   "outputs": [
    {
     "data": {
      "text/plain": [
       "[('Alanine', 0.044309),\n",
       " ('Arginine', 0.038604),\n",
       " ('Asparagine', 0.050552),\n",
       " ('Aspartic Acid', 0.026241),\n",
       " ('Cysteine', 0.031251),\n",
       " ('Glutamic Acid', 0.036413),\n",
       " ('Glutamine', 0.036063),\n",
       " ('Glycine', 0.042698),\n",
       " ('Histidine', 0.030052),\n",
       " ('Isoleucine', 0.069681),\n",
       " ('Leucine', 0.102769),\n",
       " ('Lysine', 0.064844),\n",
       " ('Methionine', 0.017483),\n",
       " ('Phenylalanine', 0.069723),\n",
       " ('Proline', 0.041977),\n",
       " ('Serine', 0.091898),\n",
       " ('Stop', 0.052829),\n",
       " ('Threonine', 0.05279),\n",
       " ('Tryptophan', 0.014608),\n",
       " ('Tyrosine', 0.032927),\n",
       " ('Valine', 0.052288)]"
      ]
     },
     "execution_count": 17,
     "metadata": {},
     "output_type": "execute_result"
    }
   ],
   "source": [
    "n_acido = sum(acido.values())\n",
    "n_acido\n",
    "\n",
    "freq = {}\n",
    "for key, value in acido.items():\n",
    "    freq[key] = round((value / n_acido), 6) \n",
    "\n",
    "freq = sorted(freq.items())\n",
    "freq"
   ]
  }
 ],
 "metadata": {
  "kernelspec": {
   "display_name": "Python 3",
   "language": "python",
   "name": "python3"
  },
  "language_info": {
   "codemirror_mode": {
    "name": "ipython",
    "version": 3
   },
   "file_extension": ".py",
   "mimetype": "text/x-python",
   "name": "python",
   "nbconvert_exporter": "python",
   "pygments_lexer": "ipython3",
   "version": "3.8.5"
  }
 },
 "nbformat": 4,
 "nbformat_minor": 4
}
