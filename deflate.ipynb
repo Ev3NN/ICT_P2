{
 "cells": [
  {
   "cell_type": "code",
   "execution_count": 1,
   "metadata": {},
   "outputs": [],
   "source": [
    "import huffman as huf\n",
    "import lz77 as lz\n",
    "import string"
   ]
  },
  {
   "cell_type": "code",
   "execution_count": 2,
   "metadata": {},
   "outputs": [],
   "source": [
    "def lz77_genome(src, dest):\n",
    "    file = open(src, 'r')\n",
    "    look_ahead_buffer = file.read()\n",
    "    look_ahead_buffer = look_ahead_buffer.replace('\\n', '')\n",
    "    \n",
    "    search_buffer = ' ' * 7\n",
    "\n",
    "    codewords = lz.lz77(search_buffer, look_ahead_buffer)\n",
    "\n",
    "    f = open(dest,'w')\n",
    "        \n",
    "    for el in codewords:\n",
    "        f.write(str(el) + '\\n')\n",
    "\n",
    "    f.close()\n",
    "    print('Done')\n"
   ]
  },
  {
   "cell_type": "code",
   "execution_count": 13,
   "metadata": {},
   "outputs": [],
   "source": [
    "def compute_freq(filename):\n",
    "    file = open(filename, 'r')\n",
    "    \n",
    "    text = file.read()\n",
    "    text = text.replace('\\n', '')\n",
    "    \n",
    "    count_a = text.count('A')\n",
    "    count_c = text.count('C')\n",
    "    count_g = text.count('G')\n",
    "    count_t = text.count('T')\n",
    "    \n",
    "    return {'A': count_a, 'C': count_c, 'G': count_g, 'T': count_t}"
   ]
  },
  {
   "cell_type": "code",
   "execution_count": 14,
   "metadata": {},
   "outputs": [
    {
     "data": {
      "text/plain": [
       "{'A': 112082, 'C': 92041, 'G': 91228, 'T': 111933}"
      ]
     },
     "execution_count": 14,
     "metadata": {},
     "output_type": "execute_result"
    }
   ],
   "source": [
    "compute_freq('lz77_test.txt')"
   ]
  },
  {
   "cell_type": "code",
   "execution_count": 16,
   "metadata": {},
   "outputs": [],
   "source": [
    "def huffman_genome(src, dest):\n",
    "    #--- Computes frequencies and builds tree\n",
    "    freq = compute_freq(src)\n",
    "    freq = sorted(freq.items(), key=lambda x: x[1], reverse=True)\n",
    "    nodes = huf.build_tree(freq)\n",
    "    huffmanCode = huf.huffman_code_tree(nodes[0][0])\n",
    "\n",
    "    huff_dic = {}\n",
    "    print(' Char | Huffman code ')\n",
    "    print('----------------------')\n",
    "    for char, p in freq:\n",
    "        print(' %-4r |%12s' % (char, huffmanCode[char]))\n",
    "        huff_dic[char] = huffmanCode[char]\n",
    "        \n",
    "    #--- Edits lz77-compressed files\n",
    "    \n",
    "    #read input file\n",
    "    file = open(dest, 'r')\n",
    "    #read file contents to string\n",
    "    text = file.read()\n",
    "    \n",
    "    #replace all occurrences of the required string\n",
    "    for base, code in huff_dic.items():\n",
    "        text = text.replace(base, code)\n",
    "\n",
    "    #close the input file\n",
    "    file.close()\n",
    "    #open the input file in write mode\n",
    "    file = open(dest, 'w')\n",
    "    #overwrite the input file with the resulting data\n",
    "    file.write(text)\n",
    "    #close the file\n",
    "    file.close()\n",
    "    print('Done')"
   ]
  },
  {
   "cell_type": "code",
   "execution_count": 17,
   "metadata": {},
   "outputs": [
    {
     "name": "stdout",
     "output_type": "stream",
     "text": [
      " Char | Huffman code \n",
      "----------------------\n",
      " 'T'  |          11\n",
      " 'A'  |          10\n",
      " 'C'  |          01\n",
      " 'G'  |          00\n",
      "Done\n"
     ]
    }
   ],
   "source": [
    "huffman_genome('genome.txt', 'lz77_test.txt')"
   ]
  }
 ],
 "metadata": {
  "kernelspec": {
   "display_name": "Python 3",
   "language": "python",
   "name": "python3"
  },
  "language_info": {
   "codemirror_mode": {
    "name": "ipython",
    "version": 3
   },
   "file_extension": ".py",
   "mimetype": "text/x-python",
   "name": "python",
   "nbconvert_exporter": "python",
   "pygments_lexer": "ipython3",
   "version": "3.8.5"
  }
 },
 "nbformat": 4,
 "nbformat_minor": 4
}
